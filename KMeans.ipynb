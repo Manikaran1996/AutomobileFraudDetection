{
 "cells": [
  {
   "cell_type": "code",
   "execution_count": 3,
   "metadata": {},
   "outputs": [],
   "source": [
    "import pandas as pd\n",
    "import numpy\n",
    "from sklearn.cluster import KMeans"
   ]
  },
  {
   "cell_type": "code",
   "execution_count": 7,
   "metadata": {},
   "outputs": [],
   "source": [
    "features = numpy.loadtxt('modifiedTraining.csv', delimiter=',')\n",
    "labels = numpy.loadtxt('labels.csv', delimiter=',')"
   ]
  },
  {
   "cell_type": "code",
   "execution_count": 8,
   "metadata": {},
   "outputs": [
    {
     "data": {
      "text/plain": [
       "(15420, 159)"
      ]
     },
     "execution_count": 8,
     "metadata": {},
     "output_type": "execute_result"
    }
   ],
   "source": [
    "features.shape"
   ]
  },
  {
   "cell_type": "code",
   "execution_count": 9,
   "metadata": {},
   "outputs": [
    {
     "data": {
      "text/plain": [
       "(15420,)"
      ]
     },
     "execution_count": 9,
     "metadata": {},
     "output_type": "execute_result"
    }
   ],
   "source": [
    "labels.shape"
   ]
  },
  {
   "cell_type": "code",
   "execution_count": 10,
   "metadata": {},
   "outputs": [],
   "source": [
    "numpy.random.seed(100)"
   ]
  },
  {
   "cell_type": "code",
   "execution_count": 12,
   "metadata": {},
   "outputs": [],
   "source": [
    "#trainingSize = features.shape[0]*8//10"
   ]
  },
  {
   "cell_type": "code",
   "execution_count": 11,
   "metadata": {},
   "outputs": [],
   "source": [
    "kmeans = KMeans(n_clusters=2, n_init=10)"
   ]
  },
  {
   "cell_type": "code",
   "execution_count": 13,
   "metadata": {},
   "outputs": [],
   "source": [
    "y = kmeans.fit_predict(features)"
   ]
  },
  {
   "cell_type": "code",
   "execution_count": 17,
   "metadata": {},
   "outputs": [
    {
     "data": {
      "text/plain": [
       "7796"
      ]
     },
     "execution_count": 17,
     "metadata": {},
     "output_type": "execute_result"
    }
   ],
   "source": [
    "sum(labels != y)"
   ]
  },
  {
   "cell_type": "code",
   "execution_count": 21,
   "metadata": {},
   "outputs": [],
   "source": [
    "kmeans5 = KMeans(n_clusters=5, n_init=10)\n",
    "y5 = kmeans5.fit_predict(features)\n"
   ]
  },
  {
   "cell_type": "code",
   "execution_count": 22,
   "metadata": {},
   "outputs": [],
   "source": [
    "from collections import Counter"
   ]
  },
  {
   "cell_type": "code",
   "execution_count": 23,
   "metadata": {},
   "outputs": [
    {
     "data": {
      "text/plain": [
       "Counter({0: 3090, 1: 3080, 2: 3088, 3: 3078, 4: 3084})"
      ]
     },
     "execution_count": 23,
     "metadata": {},
     "output_type": "execute_result"
    }
   ],
   "source": [
    "Counter(y5)"
   ]
  },
  {
   "cell_type": "code",
   "execution_count": 24,
   "metadata": {},
   "outputs": [
    {
     "data": {
      "text/plain": [
       "array([[8.44139004e-02, 7.30031120e-02, 7.67634855e-02, 8.44139004e-02,\n",
       "        9.60840249e-02, 7.94865145e-02, 8.64885892e-02, 9.25829876e-02,\n",
       "        8.94709544e-02, 7.45591286e-02, 8.49325726e-02, 7.78008299e-02,\n",
       "        2.07598548e-01, 2.28345436e-01, 2.34828838e-01, 2.22121369e-01,\n",
       "        1.07105809e-01, 1.58195021e-01, 1.72847510e-01, 1.27982365e-01,\n",
       "        1.11903527e-01, 1.39782158e-01, 1.51063278e-01, 1.38226141e-01,\n",
       "        3.28060166e-02, 9.07676349e-04, 1.11125519e-01, 7.00207469e-03,\n",
       "        4.33680869e-19, 2.99533195e-02, 1.83739627e-01, 5.18672199e-04,\n",
       "        2.16840434e-19, 1.54304979e-01, 5.18672199e-04, 5.44605809e-03,\n",
       "        1.68568465e-03, 2.41312241e-01, 2.59336100e-04, 7.65041494e-03,\n",
       "        3.63070539e-03, 2.02022822e-01, 1.71161826e-02, 1.05031120e-01,\n",
       "        8.94968880e-01, 1.29668050e-04, 1.61307054e-01, 2.44813278e-01,\n",
       "        9.20643154e-03, 2.98236515e-03, 1.69346473e-01, 2.20306017e-01,\n",
       "        1.91908714e-01, 1.29668050e-04, 8.32468880e-02, 7.13174274e-02,\n",
       "        6.41856846e-02, 8.60995851e-02, 9.67323651e-02, 7.96161826e-02,\n",
       "        8.36358921e-02, 9.38796680e-02, 9.34906639e-02, 8.19502075e-02,\n",
       "        8.80446058e-02, 7.76711618e-02, 2.24066390e-01, 2.43646266e-01,\n",
       "        2.34310166e-01, 2.19528008e-01, 7.84491701e-02, 1.57157676e-01,\n",
       "        8.42842324e-01, 4.79771784e-03, 6.83091286e-01, 3.09906639e-01,\n",
       "        2.20435685e-03, 7.32883817e-01, 2.67116183e-01, 2.72691909e-01,\n",
       "        3.54901452e-01, 3.17427386e-01, 1.42634855e-03, 2.64522822e-02,\n",
       "        1.29668050e-04, 2.39885892e-02, 1.42634855e-03, 1.55601660e-03,\n",
       "        6.27593361e-01, 3.45435685e-01, 2.69709544e-02, 5.16856846e-01,\n",
       "        2.27956432e-01, 2.68412863e-02, 5.83506224e-03, 6.89834025e-02,\n",
       "        1.53526971e-01, 2.52593361e-01, 2.45850622e-01, 2.54408714e-01,\n",
       "        2.47147303e-01, 1.29668050e-03, 3.76037344e-03, 2.72302905e-03,\n",
       "        9.88718880e-01, 3.50103734e-03, 3.63070539e-03, 1.29668050e-03,\n",
       "        9.94942946e-01, 1.29668050e-04, 2.34439834e-01, 3.52178423e-01,\n",
       "        1.26426349e-01, 2.86955394e-01, 4.27904564e-03, 9.85477178e-03,\n",
       "        1.62085062e-02, 8.98599585e-02, 2.20435685e-01, 3.77334025e-01,\n",
       "        2.54797718e-01, 2.72302905e-02, 2.34699170e-02, 1.55601660e-03,\n",
       "        8.29875519e-03, 4.08454357e-02, 3.59569502e-01, 2.67634855e-01,\n",
       "        1.77774896e-01, 8.99896266e-02, 3.08609959e-02, 9.76270747e-01,\n",
       "        2.37292531e-02, 9.93516598e-01, 6.48340249e-03, 9.86384855e-01,\n",
       "        1.36151452e-02, 1.60010373e-01, 1.30446058e-01, 2.45331950e-01,\n",
       "        4.64211618e-01, 1.10217842e-02, 1.89315353e-02, 4.08454357e-02,\n",
       "        9.28682573e-01, 5.18672199e-04, 9.27774896e-01, 4.61618257e-02,\n",
       "        2.43775934e-02, 1.42634855e-03, 2.59336100e-04, 2.98106846e-01,\n",
       "        3.82780083e-01, 3.19113071e-01, 3.95933610e+01, 3.85650000e+03,\n",
       "        8.43542531e+00, 4.07767116e+02, 1.99420358e+03],\n",
       "       [8.16035288e-02, 7.31707317e-02, 8.99065906e-02, 7.97872340e-02,\n",
       "        8.69226777e-02, 8.35495589e-02, 8.48469123e-02, 8.38090296e-02,\n",
       "        8.78308251e-02, 8.12143228e-02, 8.43279709e-02, 8.30306175e-02,\n",
       "        2.05760249e-01, 2.33134406e-01, 2.37285937e-01, 2.18604048e-01,\n",
       "        1.05215361e-01, 1.58925791e-01, 1.66450441e-01, 1.29086663e-01,\n",
       "        1.14426570e-01, 1.42060197e-01, 1.47249611e-01, 1.41800727e-01,\n",
       "        2.84120394e-02, 1.03788272e-03, 1.06901920e-01, 7.13544369e-03,\n",
       "        2.59470680e-04, 2.84120394e-02, 1.79553710e-01, 2.59470680e-04,\n",
       "        1.29735340e-04, 1.51011936e-01, 8.67361738e-19, 5.31914894e-03,\n",
       "        2.20550078e-03, 2.56357032e-01, 3.89206020e-04, 6.35703166e-03,\n",
       "        3.89206020e-03, 2.02776336e-01, 1.95900363e-02, 1.02231448e-01,\n",
       "        8.97768552e-01, 2.16840434e-19, 1.62558381e-01, 2.42475350e-01,\n",
       "        7.26517903e-03, 3.76232486e-03, 1.75661650e-01, 2.17436430e-01,\n",
       "        1.90840685e-01, 2.16840434e-19, 8.16035288e-02, 7.47275558e-02,\n",
       "        8.44577063e-02, 8.08251168e-02, 9.08147379e-02, 7.92682927e-02,\n",
       "        8.40685003e-02, 8.09548521e-02, 8.95173845e-02, 8.47171770e-02,\n",
       "        8.56253243e-02, 8.34198236e-02, 2.23404255e-01, 2.38842761e-01,\n",
       "        2.30409964e-01, 2.25739491e-01, 8.16035288e-02, 1.56720291e-01,\n",
       "        8.43279709e-01, 5.05967826e-03, 6.94992216e-01, 2.97612870e-01,\n",
       "        2.33523612e-03, 7.23663726e-01, 2.76336274e-01, 2.57394914e-01,\n",
       "        3.69356513e-01, 3.29398028e-01, 1.42708874e-03, 1.86818889e-02,\n",
       "        2.16840434e-19, 2.01089777e-02, 2.46497146e-03, 1.16761806e-03,\n",
       "        6.26751427e-01, 3.49507006e-01, 2.37415672e-02, 5.31006746e-01,\n",
       "        2.30280228e-01, 3.29527763e-02, 5.44888428e-03, 7.31707317e-02,\n",
       "        1.27140633e-01, 2.58951738e-01, 2.47145823e-01, 2.49351323e-01,\n",
       "        2.44551116e-01, 5.18941360e-04, 2.59470680e-03, 4.41100156e-03,\n",
       "        9.88842761e-01, 3.63258952e-03, 3.63258952e-03, 1.42708874e-03,\n",
       "        9.94940322e-01, 2.16840434e-19, 2.28982875e-01, 3.59237156e-01,\n",
       "        1.34276077e-01, 2.77503892e-01, 5.18941360e-03, 9.85988583e-03,\n",
       "        1.34924754e-02, 8.61442657e-02, 2.26777374e-01, 3.75843280e-01,\n",
       "        2.61546445e-01, 2.11468604e-02, 1.80332122e-02, 3.89206020e-04,\n",
       "        5.70835496e-03, 3.86611313e-02, 3.65853659e-01, 2.56746238e-01,\n",
       "        1.89024390e-01, 9.05552673e-02, 3.50285418e-02, 9.68214842e-01,\n",
       "        3.17851583e-02, 9.95199792e-01, 4.80020758e-03, 9.82355994e-01,\n",
       "        1.76440062e-02, 1.62817852e-01, 1.31162429e-01, 2.56227296e-01,\n",
       "        4.49792423e-01, 1.10275039e-02, 1.88116243e-02, 4.09963674e-02,\n",
       "        9.29164504e-01, 8.67361738e-19, 9.29034769e-01, 4.57965750e-02,\n",
       "        2.38713025e-02, 1.29735340e-03, 4.33680869e-19, 2.78930981e-01,\n",
       "        3.90503373e-01, 3.30565646e-01, 4.01181889e+01, 1.15665000e+04,\n",
       "        8.53113648e+00, 4.07641412e+02, 1.99552971e+03]])"
      ]
     },
     "execution_count": 24,
     "metadata": {},
     "output_type": "execute_result"
    }
   ],
   "source": [
    "kmeans.cluster_centers_"
   ]
  },
  {
   "cell_type": "code",
   "execution_count": 25,
   "metadata": {},
   "outputs": [],
   "source": [
    "from scipy.spatial.distance import cdist\n",
    "import matplotlib.pyplot as plt"
   ]
  },
  {
   "cell_type": "code",
   "execution_count": 48,
   "metadata": {},
   "outputs": [],
   "source": [
    "sse = []\n",
    "for k in range(3,35):\n",
    "    model = KMeans(n_clusters=k)\n",
    "    model.fit(features)\n",
    "    sse.append(sum(numpy.min(cdist(features, model.cluster_centers_), axis=1))/features.shape[0])"
   ]
  },
  {
   "cell_type": "code",
   "execution_count": 54,
   "metadata": {},
   "outputs": [
    {
     "data": {
      "text/plain": [
       "Text(0,0.5,'SSE')"
      ]
     },
     "execution_count": 54,
     "metadata": {},
     "output_type": "execute_result"
    },
    {
     "data": {
      "image/png": "[encoded data removed]",
      "text/plain": [
       "<matplotlib.figure.Figure at 0x10b5a2e80>"
      ]
     },
     "metadata": {},
     "output_type": "display_data"
    }
   ],
   "source": [
    "plt.figure(figsize=(10,8))\n",
    "plt.plot(list(range(3,35)), sse)\n",
    "plt.xlabel('Number of clusters')\n",
    "plt.ylabel('SSE')"
   ]
  },
  {
   "cell_type": "code",
   "execution_count": 33,
   "metadata": {},
   "outputs": [
    {
     "data": {
      "text/plain": [
       "(15420,)"
      ]
     },
     "execution_count": 33,
     "metadata": {},
     "output_type": "execute_result"
    }
   ],
   "source": [
    "numpy.min(cdist(features, kmeans.cluster_centers_),axis=1).shape"
   ]
  },
  {
   "cell_type": "code",
   "execution_count": 34,
   "metadata": {},
   "outputs": [
    {
     "data": {
      "text/plain": [
       "(15420, 2)"
      ]
     },
     "execution_count": 34,
     "metadata": {},
     "output_type": "execute_result"
    }
   ],
   "source": [
    "cdist(features, kmeans.cluster_centers_).shape"
   ]
  },
  {
   "cell_type": "code",
   "execution_count": 50,
   "metadata": {},
   "outputs": [
    {
     "name": "stdout",
     "output_type": "stream",
     "text": [
      "Help on function figure in module matplotlib.pyplot:\n",
      "\n",
      "figure(num=None, figsize=None, dpi=None, facecolor=None, edgecolor=None, frameon=True, FigureClass=<class 'matplotlib.figure.Figure'>, clear=False, **kwargs)\n",
      "    Creates a new figure.\n",
      "    \n",
      "    Parameters\n",
      "    ----------\n",
      "    \n",
      "    num : integer or string, optional, default: none\n",
      "        If not provided, a new figure will be created, and the figure number\n",
      "        will be incremented. The figure objects holds this number in a `number`\n",
      "        attribute.\n",
      "        If num is provided, and a figure with this id already exists, make\n",
      "        it active, and returns a reference to it. If this figure does not\n",
      "        exists, create it and returns it.\n",
      "        If num is a string, the window title will be set to this figure's\n",
      "        `num`.\n",
      "    \n",
      "    figsize : tuple of integers, optional, default: None\n",
      "        width, height in inches. If not provided, defaults to rc\n",
      "        figure.figsize.\n",
      "    \n",
      "    dpi : integer, optional, default: None\n",
      "        resolution of the figure. If not provided, defaults to rc figure.dpi.\n",
      "    \n",
      "    facecolor :\n",
      "        the background color. If not provided, defaults to rc figure.facecolor.\n",
      "    \n",
      "    edgecolor :\n",
      "        the border color. If not provided, defaults to rc figure.edgecolor.\n",
      "    \n",
      "    frameon : bool, optional, default: True\n",
      "        If False, suppress drawing the figure frame.\n",
      "    \n",
      "    FigureClass : class derived from matplotlib.figure.Figure\n",
      "        Optionally use a custom Figure instance.\n",
      "    \n",
      "    clear : bool, optional, default: False\n",
      "        If True and the figure already exists, then it is cleared.\n",
      "    \n",
      "    Returns\n",
      "    -------\n",
      "    figure : Figure\n",
      "        The Figure instance returned will also be passed to new_figure_manager\n",
      "        in the backends, which allows to hook custom Figure classes into the\n",
      "        pylab interface. Additional kwargs will be passed to the figure init\n",
      "        function.\n",
      "    \n",
      "    Notes\n",
      "    -----\n",
      "    If you are creating many figures, make sure you explicitly call \"close\"\n",
      "    on the figures you are not using, because this will enable pylab\n",
      "    to properly clean up the memory.\n",
      "    \n",
      "    rcParams defines the default values, which can be modified in the\n",
      "    matplotlibrc file\n",
      "\n"
     ]
    }
   ],
   "source": [
    "help(plt.figure)"
   ]
  },
  {
   "cell_type": "code",
   "execution_count": null,
   "metadata": {},
   "outputs": [],
   "source": []
  }
 ],
 "metadata": {
  "kernelspec": {
   "display_name": "Python 3",
   "language": "python",
   "name": "python3"
  },
  "language_info": {
   "codemirror_mode": {
    "name": "ipython",
    "version": 3
   },
   "file_extension": ".py",
   "mimetype": "text/x-python",
   "name": "python",
   "nbconvert_exporter": "python",
   "pygments_lexer": "ipython3",
   "version": "3.6.4"
  }
 },
 "nbformat": 4,
 "nbformat_minor": 2
}
