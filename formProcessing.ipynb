{
 "cells": [
  {
   "cell_type": "code",
   "execution_count": 1,
   "metadata": {},
   "outputs": [],
   "source": [
    "import cv2\n",
    "import numpy as np\n",
    "import matplotlib.pyplot as plt"
   ]
  },
  {
   "cell_type": "code",
   "execution_count": 2,
   "metadata": {},
   "outputs": [
    {
     "name": "stdout",
     "output_type": "stream",
     "text": [
      "3.4.1\n"
     ]
    }
   ],
   "source": [
    "print(cv2.__version__)"
   ]
  },
  {
   "cell_type": "code",
   "execution_count": 3,
   "metadata": {},
   "outputs": [],
   "source": [
    "image = cv2.imread('formImage.jpg')"
   ]
  },
  {
   "cell_type": "code",
   "execution_count": 4,
   "metadata": {},
   "outputs": [],
   "source": [
    "def removePadding(image):\n",
    "    up = 0\n",
    "    down = 0\n",
    "    left = 0\n",
    "    right = 0\n",
    "    while sum(image[:,0] == 0) > 0.95*image.shape[0] or sum(image[:,0] == 255) > 0.95*image.shape[0]:\n",
    "        image = image[:,1:]\n",
    "        up += 1\n",
    "    while sum(image[0,:] == 0) > 0.95*image.shape[1] or sum(image[0,:] == 255) > 0.95*image.shape[1]:\n",
    "        image = image[1:,:]\n",
    "        left += 1\n",
    "    while sum(image[:,-1] == 0) > 0.95*image.shape[0] or sum(image[:,-1] == 255) > 0.95*image.shape[0]:\n",
    "        image = image[:,:-1]\n",
    "        right += 1\n",
    "    while sum(image[-1,:] == 0) > 0.95*image.shape[1] or sum(image[-1,:] == 255) > 0.95*image.shape[1]:\n",
    "        image = image[:-1,:]\n",
    "        down += 1\n",
    "    print('Number of lines removed-\\nUp = {}\\nLeft = {}\\nRight = {}\\nDown = {}'.format(up, left, right, down))\n",
    "    return image"
   ]
  },
  {
   "cell_type": "code",
   "execution_count": 39,
   "metadata": {},
   "outputs": [],
   "source": [
    "def removePadding2(image):\n",
    "    while sum(image[:,0] == 0) == image.shape[0] or sum(image[:,0] == 255) == image.shape[0]:\n",
    "        image = image[:,1:]\n",
    "    while sum(image[0,:] == 0) == image.shape[1] or sum(image[0,:] == 255) == image.shape[1]:\n",
    "        image = image[1:,:]\n",
    "    while sum(image[:,-1] == 0) == image.shape[0] or sum(image[:,-1] == 255) == image.shape[0]:\n",
    "        image = image[:,:-1]\n",
    "    while sum(image[-1,:] == 0) == image.shape[1] or sum(image[-1,:] == 255) == image.shape[1]:\n",
    "        image = image[:-1,:]\n",
    "    return image"
   ]
  },
  {
   "cell_type": "code",
   "execution_count": 30,
   "metadata": {},
   "outputs": [],
   "source": [
    "def removeBoxes(image, threshX = 60, threshY = 40):\n",
    "    for i in range(image.shape[0]):\n",
    "        \"\"\"if sum(image[i, :] == 0) >= threshX:\n",
    "            image[i, :] = 255\"\"\"\n",
    "        countBlack = 0\n",
    "        for j in range(image.shape[1]):\n",
    "            if image[i,j] == 0:\n",
    "                countBlack += 1\n",
    "            else:\n",
    "                if countBlack >= threshX:\n",
    "                    image[i,j-countBlack:j] = 255\n",
    "                countBlack = 0\n",
    "                \n",
    "    for i in range(image.shape[1]):\n",
    "        if sum(image[:,i] == 0) >= threshY:\n",
    "            image[:,i] = 255\n",
    "            \n",
    "        \"\"\"countBlack = 0\n",
    "        for j in range(image.shape[0]):\n",
    "            if image[j,i] == 0:\n",
    "                countBlack += 1\n",
    "            else:\n",
    "                if countBlack >= threshY:\n",
    "                    image[:,i] = 255\n",
    "                    print('Vertical line Deleted')\n",
    "                #countBlack = 0\"\"\"\n",
    "                \n",
    "    return image\n",
    "    "
   ]
  },
  {
   "cell_type": "code",
   "execution_count": 24,
   "metadata": {},
   "outputs": [],
   "source": [
    "def postRemoveProcessing(image):\n",
    "    image = cv2.medianBlur(image,3)\n",
    "    image = cv2.dilate(image, cv2.getStructuringElement(cv2.MORPH_CROSS,(3,3)))\n",
    "    image = cv2.erode(image, cv2.getStructuringElement(cv2.MORPH_CROSS,(3,3)))\n",
    "    return image"
   ]
  },
  {
   "cell_type": "code",
   "execution_count": 62,
   "metadata": {},
   "outputs": [],
   "source": [
    "def modifiedRemoveBoxes(image, threshX = 50, threshY = 30):\n",
    "    for i in range(image.shape[0]):\n",
    "        countBlack = 0\n",
    "        for j in range(image.shape[1]):\n",
    "            if image[i,j] == 0:\n",
    "                countBlack += 1\n",
    "            else:\n",
    "                if countBlack >= threshX:\n",
    "                    image[i,j-countBlack:j] = 255\n",
    "                countBlack = 0\n",
    "                \n",
    "    for i in range(image.shape[1]):\n",
    "        countBlack = 0\n",
    "        for j in range(image.shape[0]):\n",
    "            if image[j,i] == 0:\n",
    "                countBlack += 1\n",
    "            else:\n",
    "                if countBlack >= threshY:\n",
    "                    image[j-countBlack:j,i] = 255\n",
    "                countBlack = 0\n",
    "    return image"
   ]
  },
  {
   "cell_type": "code",
   "execution_count": 8,
   "metadata": {},
   "outputs": [],
   "source": [
    "def getBoundaries(image, threshold=60):\n",
    "    boundaryRows = []\n",
    "    for i in range(image.shape[0]):\n",
    "        blackCount = 0\n",
    "        for j in range(image.shape[1]):\n",
    "            if image[i,j] == 0:\n",
    "                blackCount += 1\n",
    "            elif blackCount > threshold:\n",
    "                boundaryRows.append(i)\n",
    "                break\n",
    "            else:\n",
    "                blackCount = 0\n",
    "    print('Total Number of boundaries detected = ', len(boundaryRows))\n",
    "    return boundaryRows"
   ]
  },
  {
   "cell_type": "code",
   "execution_count": 58,
   "metadata": {},
   "outputs": [],
   "source": [
    "def segmentCharacters(image, threshold=10):\n",
    "    image = removePadding2(image)\n",
    "    prev = 0\n",
    "    image[:,0] = 128\n",
    "    for i in range(1, image.shape[1]):\n",
    "        if (image[:,i] == 255).all() and (i-prev) > threshold:\n",
    "            image[:,i] = 128\n",
    "            prev = i\n",
    "    return image"
   ]
  },
  {
   "cell_type": "code",
   "execution_count": 9,
   "metadata": {},
   "outputs": [],
   "source": [
    "#resizedImage = cv2.resize(image, None, fx=0.25, fy=0.25, interpolation=cv2.INTER_AREA)"
   ]
  },
  {
   "cell_type": "code",
   "execution_count": 10,
   "metadata": {},
   "outputs": [],
   "source": [
    "#resizedImage.shape"
   ]
  },
  {
   "cell_type": "code",
   "execution_count": 11,
   "metadata": {},
   "outputs": [],
   "source": [
    "grayScaleImage = cv2.cvtColor(image, cv2.COLOR_BGR2GRAY)"
   ]
  },
  {
   "cell_type": "code",
   "execution_count": 12,
   "metadata": {},
   "outputs": [
    {
     "data": {
      "text/plain": [
       "(3507, 2550)"
      ]
     },
     "execution_count": 12,
     "metadata": {},
     "output_type": "execute_result"
    }
   ],
   "source": [
    "grayScaleImage.shape"
   ]
  },
  {
   "cell_type": "code",
   "execution_count": 13,
   "metadata": {},
   "outputs": [],
   "source": [
    "retVal, tempImage = cv2.threshold(grayScaleImage, 0, 255,  cv2.THRESH_BINARY + cv2.THRESH_OTSU)"
   ]
  },
  {
   "cell_type": "code",
   "execution_count": 14,
   "metadata": {},
   "outputs": [],
   "source": [
    "binarizedImage = cv2.medianBlur(tempImage,3)"
   ]
  },
  {
   "cell_type": "code",
   "execution_count": 15,
   "metadata": {},
   "outputs": [
    {
     "name": "stdout",
     "output_type": "stream",
     "text": [
      "Number of lines removed-\n",
      "Up = 10\n",
      "Left = 10\n",
      "Right = 179\n",
      "Down = 168\n"
     ]
    }
   ],
   "source": [
    "marginRemovedImage = removePadding(binarizedImage)"
   ]
  },
  {
   "cell_type": "code",
   "execution_count": 16,
   "metadata": {},
   "outputs": [
    {
     "data": {
      "text/plain": [
       "True"
      ]
     },
     "execution_count": 16,
     "metadata": {},
     "output_type": "execute_result"
    }
   ],
   "source": [
    "cv2.imwrite('./openCvImages/otsuBinarizedImage.jpg', binarizedImage)"
   ]
  },
  {
   "cell_type": "code",
   "execution_count": 17,
   "metadata": {},
   "outputs": [
    {
     "data": {
      "text/plain": [
       "True"
      ]
     },
     "execution_count": 17,
     "metadata": {},
     "output_type": "execute_result"
    }
   ],
   "source": [
    "cv2.imwrite('./openCvImages/marginRemovedImage.jpg', marginRemovedImage)"
   ]
  },
  {
   "cell_type": "code",
   "execution_count": 18,
   "metadata": {},
   "outputs": [
    {
     "name": "stdout",
     "output_type": "stream",
     "text": [
      "Total Number of boundaries detected =  585\n"
     ]
    }
   ],
   "source": [
    "boundaries = getBoundaries(marginRemovedImage, threshold = 200)"
   ]
  },
  {
   "cell_type": "code",
   "execution_count": 19,
   "metadata": {},
   "outputs": [
    {
     "name": "stdout",
     "output_type": "stream",
     "text": [
      "Number of boundaries =  42\n"
     ]
    }
   ],
   "source": [
    "# assuming the boundaries of boxes are atleast 40 rows apart\n",
    "\n",
    "filteredBoundaries = [boundaries[0]]\n",
    "prev = boundaries[0]\n",
    "for val in boundaries[1:]:\n",
    "    if (val - prev) > 40:\n",
    "        prev = val\n",
    "        filteredBoundaries.append(val)\n",
    "print('Number of boundaries = ', len(filteredBoundaries))"
   ]
  },
  {
   "cell_type": "code",
   "execution_count": 20,
   "metadata": {},
   "outputs": [
    {
     "data": {
      "text/plain": [
       "True"
      ]
     },
     "execution_count": 20,
     "metadata": {},
     "output_type": "execute_result"
    }
   ],
   "source": [
    "temp = marginRemovedImage.copy()\n",
    "temp[filteredBoundaries,:] = 128\n",
    "cv2.imwrite('./openCvImages/temp.jpg', temp)"
   ]
  },
  {
   "cell_type": "code",
   "execution_count": 37,
   "metadata": {
    "scrolled": true
   },
   "outputs": [],
   "source": [
    "for i in range(0,len(filteredBoundaries)-1):\n",
    "    temp = marginRemovedImage[filteredBoundaries[i]:filteredBoundaries[i+1],:].copy()\n",
    "    temp = removeBoxes(temp, threshX=55, threshY=40)\n",
    "    processedImage = postRemoveProcessing(temp)\n",
    "    cv2.imwrite('./openCvImages/lines/{}.jpg'.format(i), processedImage)"
   ]
  },
  {
   "cell_type": "markdown",
   "metadata": {},
   "source": [
    "threshold = 60 , number of lines detected = 650\n",
    "threshold = 100, number of lines detected = 628\n",
    "threshold = 200, number of lines detected = 585\n",
    "threshold = 500, number of lines detected = 466"
   ]
  },
  {
   "cell_type": "code",
   "execution_count": 60,
   "metadata": {},
   "outputs": [
    {
     "data": {
      "text/plain": [
       "<matplotlib.image.AxesImage at 0x1238dce48>"
      ]
     },
     "execution_count": 60,
     "metadata": {},
     "output_type": "execute_result"
    },
    {
     "data": {
      "image/png": "[encoded data removed]",
      "text/plain": [
       "<matplotlib.figure.Figure at 0x123ac42e8>"
      ]
     },
     "metadata": {},
     "output_type": "display_data"
    }
   ],
   "source": [
    "retVal, temp = cv2.threshold(cv2.cvtColor(cv2.imread('./openCvImages/lines/5.jpg'), cv2.COLOR_BGR2GRAY), 128, 255, cv2.THRESH_BINARY)\n",
    "cv2.medianBlur(temp,3)\n",
    "plt.figure(figsize=(10,200))\n",
    "plt.imshow(segmentCharacters(temp, threshold=15))"
   ]
  },
  {
   "cell_type": "code",
   "execution_count": 63,
   "metadata": {},
   "outputs": [
    {
     "data": {
      "text/plain": [
       "True"
      ]
     },
     "execution_count": 63,
     "metadata": {},
     "output_type": "execute_result"
    }
   ],
   "source": [
    "fullFormImage = binarizedImage.copy()\n",
    "fullFormImage = modifiedRemoveBoxes(fullFormImage, threshX = 60, threshY=30)\n",
    "fullFormImage = cv2.medianBlur(fullFormImage,3)\n",
    "fullFormImage = cv2.dilate(fullFormImage, cv2.getStructuringElement(cv2.MORPH_CROSS,(3,3)))\n",
    "fullFormImage = cv2.erode(fullFormImage, cv2.getStructuringElement(cv2.MORPH_CROSS,(3,3)))\n",
    "cv2.imwrite('./openCvImages/processedImage.jpg', fullFormImage)"
   ]
  },
  {
   "cell_type": "code",
   "execution_count": 376,
   "metadata": {},
   "outputs": [],
   "source": [
    "formNumberImage = binarizedImage[330:450, 200:1000].copy()\n",
    "formNumberImage = removeBoxes(formNumberImage)\n",
    "formNumberImage = cv2.medianBlur(formNumberImage,3)"
   ]
  },
  {
   "cell_type": "code",
   "execution_count": 379,
   "metadata": {},
   "outputs": [],
   "source": [
    "formNumberImage = cv2.dilate(formNumberImage, cv2.getStructuringElement(cv2.MORPH_CROSS,(3,3)))\n",
    "formNumberImage = cv2.erode(formNumberImage, cv2.getStructuringElement(cv2.MORPH_CROSS,(3,3)))"
   ]
  },
  {
   "cell_type": "code",
   "execution_count": 380,
   "metadata": {},
   "outputs": [],
   "source": [
    "cv2.imshow('originalImage',grayScaleImage[330:450, 200:1000])\n",
    "cv2.imshow('binarizedImage',binarizedImage[330:450, 200:1000])\n",
    "cv2.imshow('processedBinarizedImage',formNumberImage)\n",
    "cv2.waitKey(0)\n",
    "cv2.destroyAllWindows()"
   ]
  },
  {
   "cell_type": "code",
   "execution_count": 93,
   "metadata": {},
   "outputs": [
    {
     "name": "stdout",
     "output_type": "stream",
     "text": [
      "Help on function imshow in module matplotlib.pyplot:\n",
      "\n",
      "imshow(X, cmap=None, norm=None, aspect=None, interpolation=None, alpha=None, vmin=None, vmax=None, origin=None, extent=None, shape=None, filternorm=1, filterrad=4.0, imlim=None, resample=None, url=None, hold=None, data=None, **kwargs)\n",
      "    Display an image on the axes.\n",
      "    \n",
      "    Parameters\n",
      "    ----------\n",
      "    X : array_like, shape (n, m) or (n, m, 3) or (n, m, 4)\n",
      "        Display the image in `X` to current axes.  `X` may be an\n",
      "        array or a PIL image. If `X` is an array, it\n",
      "        can have the following shapes and types:\n",
      "    \n",
      "        - MxN -- values to be mapped (float or int)\n",
      "        - MxNx3 -- RGB (float or uint8)\n",
      "        - MxNx4 -- RGBA (float or uint8)\n",
      "    \n",
      "        The value for each component of MxNx3 and MxNx4 float arrays\n",
      "        should be in the range 0.0 to 1.0. MxN arrays are mapped\n",
      "        to colors based on the `norm` (mapping scalar to scalar)\n",
      "        and the `cmap` (mapping the normed scalar to a color).\n",
      "    \n",
      "    cmap : `~matplotlib.colors.Colormap`, optional, default: None\n",
      "        If None, default to rc `image.cmap` value. `cmap` is ignored\n",
      "        if `X` is 3-D, directly specifying RGB(A) values.\n",
      "    \n",
      "    aspect : ['auto' | 'equal' | scalar], optional, default: None\n",
      "        If 'auto', changes the image aspect ratio to match that of the\n",
      "        axes.\n",
      "    \n",
      "        If 'equal', and `extent` is None, changes the axes aspect ratio to\n",
      "        match that of the image. If `extent` is not `None`, the axes\n",
      "        aspect ratio is changed to match that of the extent.\n",
      "    \n",
      "        If None, default to rc ``image.aspect`` value.\n",
      "    \n",
      "    interpolation : string, optional, default: None\n",
      "        Acceptable values are 'none', 'nearest', 'bilinear', 'bicubic',\n",
      "        'spline16', 'spline36', 'hanning', 'hamming', 'hermite', 'kaiser',\n",
      "        'quadric', 'catrom', 'gaussian', 'bessel', 'mitchell', 'sinc',\n",
      "        'lanczos'\n",
      "    \n",
      "        If `interpolation` is None, default to rc `image.interpolation`.\n",
      "        See also the `filternorm` and `filterrad` parameters.\n",
      "        If `interpolation` is 'none', then no interpolation is performed\n",
      "        on the Agg, ps and pdf backends. Other backends will fall back to\n",
      "        'nearest'.\n",
      "    \n",
      "    norm : `~matplotlib.colors.Normalize`, optional, default: None\n",
      "        A `~matplotlib.colors.Normalize` instance is used to scale\n",
      "        a 2-D float `X` input to the (0, 1) range for input to the\n",
      "        `cmap`. If `norm` is None, use the default func:`normalize`.\n",
      "        If `norm` is an instance of `~matplotlib.colors.NoNorm`,\n",
      "        `X` must be an array of integers that index directly into\n",
      "        the lookup table of the `cmap`.\n",
      "    \n",
      "    vmin, vmax : scalar, optional, default: None\n",
      "        `vmin` and `vmax` are used in conjunction with norm to normalize\n",
      "        luminance data.  Note if you pass a `norm` instance, your\n",
      "        settings for `vmin` and `vmax` will be ignored.\n",
      "    \n",
      "    alpha : scalar, optional, default: None\n",
      "        The alpha blending value, between 0 (transparent) and 1 (opaque)\n",
      "    \n",
      "    origin : ['upper' | 'lower'], optional, default: None\n",
      "        Place the [0,0] index of the array in the upper left or lower left\n",
      "        corner of the axes. If None, default to rc `image.origin`.\n",
      "    \n",
      "    extent : scalars (left, right, bottom, top), optional, default: None\n",
      "        The location, in data-coordinates, of the lower-left and\n",
      "        upper-right corners. If `None`, the image is positioned such that\n",
      "        the pixel centers fall on zero-based (row, column) indices.\n",
      "    \n",
      "    shape : scalars (columns, rows), optional, default: None\n",
      "        For raw buffer images\n",
      "    \n",
      "    filternorm : scalar, optional, default: 1\n",
      "        A parameter for the antigrain image resize filter.  From the\n",
      "        antigrain documentation, if `filternorm` = 1, the filter\n",
      "        normalizes integer values and corrects the rounding errors. It\n",
      "        doesn't do anything with the source floating point values, it\n",
      "        corrects only integers according to the rule of 1.0 which means\n",
      "        that any sum of pixel weights must be equal to 1.0.  So, the\n",
      "        filter function must produce a graph of the proper shape.\n",
      "    \n",
      "    filterrad : scalar, optional, default: 4.0\n",
      "        The filter radius for filters that have a radius parameter, i.e.\n",
      "        when interpolation is one of: 'sinc', 'lanczos' or 'blackman'\n",
      "    \n",
      "    Returns\n",
      "    -------\n",
      "    image : `~matplotlib.image.AxesImage`\n",
      "    \n",
      "    Other Parameters\n",
      "    ----------------\n",
      "    **kwargs : `~matplotlib.artist.Artist` properties.\n",
      "    \n",
      "    See also\n",
      "    --------\n",
      "    matshow : Plot a matrix or an array as an image.\n",
      "    \n",
      "    Notes\n",
      "    -----\n",
      "    Unless *extent* is used, pixel centers will be located at integer\n",
      "    coordinates. In other words: the origin will coincide with the center\n",
      "    of pixel (0, 0).\n",
      "    \n",
      "    .. note::\n",
      "        In addition to the above described arguments, this function can take a\n",
      "        **data** keyword argument. If such a **data** argument is given, the\n",
      "        following arguments are replaced by **data[<arg>]**:\n",
      "    \n",
      "        * All positional and all keyword arguments.\n",
      "\n"
     ]
    }
   ],
   "source": [
    "help(plt.imshow)"
   ]
  },
  {
   "cell_type": "code",
   "execution_count": 86,
   "metadata": {},
   "outputs": [
    {
     "name": "stdout",
     "output_type": "stream",
     "text": [
      "Help on built-in function destroyWindow:\n",
      "\n",
      "destroyWindow(...)\n",
      "    destroyWindow(winname) -> None\n",
      "    .   @brief Destroys the specified window.\n",
      "    .   \n",
      "    .   The function destroyWindow destroys the window with the given name.\n",
      "    .   \n",
      "    .   @param winname Name of the window to be destroyed.\n",
      "\n"
     ]
    }
   ],
   "source": [
    "help(cv2.destroyWindow)"
   ]
  },
  {
   "cell_type": "code",
   "execution_count": 11,
   "metadata": {},
   "outputs": [
    {
     "name": "stdout",
     "output_type": "stream",
     "text": [
      "Help on built-in function threshold:\n",
      "\n",
      "threshold(...)\n",
      "    threshold(src, thresh, maxval, type[, dst]) -> retval, dst\n",
      "    .   @brief Applies a fixed-level threshold to each array element.\n",
      "    .   \n",
      "    .   The function applies fixed-level thresholding to a multiple-channel array. The function is typically\n",
      "    .   used to get a bi-level (binary) image out of a grayscale image ( #compare could be also used for\n",
      "    .   this purpose) or for removing a noise, that is, filtering out pixels with too small or too large\n",
      "    .   values. There are several types of thresholding supported by the function. They are determined by\n",
      "    .   type parameter.\n",
      "    .   \n",
      "    .   Also, the special values #THRESH_OTSU or #THRESH_TRIANGLE may be combined with one of the\n",
      "    .   above values. In these cases, the function determines the optimal threshold value using the Otsu's\n",
      "    .   or Triangle algorithm and uses it instead of the specified thresh.\n",
      "    .   \n",
      "    .   @note Currently, the Otsu's and Triangle methods are implemented only for 8-bit single-channel images.\n",
      "    .   \n",
      "    .   @param src input array (multiple-channel, 8-bit or 32-bit floating point).\n",
      "    .   @param dst output array of the same size  and type and the same number of channels as src.\n",
      "    .   @param thresh threshold value.\n",
      "    .   @param maxval maximum value to use with the #THRESH_BINARY and #THRESH_BINARY_INV thresholding\n",
      "    .   types.\n",
      "    .   @param type thresholding type (see #ThresholdTypes).\n",
      "    .   @return the computed threshold value if Otsu's or Triangle methods used.\n",
      "    .   \n",
      "    .   @sa  adaptiveThreshold, findContours, compare, min, max\n",
      "\n"
     ]
    }
   ],
   "source": [
    "help(cv2.threshold)"
   ]
  },
  {
   "cell_type": "code",
   "execution_count": 211,
   "metadata": {},
   "outputs": [
    {
     "name": "stdout",
     "output_type": "stream",
     "text": [
      "Help on built-in function GaussianBlur:\n",
      "\n",
      "GaussianBlur(...)\n",
      "    GaussianBlur(src, ksize, sigmaX[, dst[, sigmaY[, borderType]]]) -> dst\n",
      "    .   @brief Blurs an image using a Gaussian filter.\n",
      "    .   \n",
      "    .   The function convolves the source image with the specified Gaussian kernel. In-place filtering is\n",
      "    .   supported.\n",
      "    .   \n",
      "    .   @param src input image; the image can have any number of channels, which are processed\n",
      "    .   independently, but the depth should be CV_8U, CV_16U, CV_16S, CV_32F or CV_64F.\n",
      "    .   @param dst output image of the same size and type as src.\n",
      "    .   @param ksize Gaussian kernel size. ksize.width and ksize.height can differ but they both must be\n",
      "    .   positive and odd. Or, they can be zero's and then they are computed from sigma.\n",
      "    .   @param sigmaX Gaussian kernel standard deviation in X direction.\n",
      "    .   @param sigmaY Gaussian kernel standard deviation in Y direction; if sigmaY is zero, it is set to be\n",
      "    .   equal to sigmaX, if both sigmas are zeros, they are computed from ksize.width and ksize.height,\n",
      "    .   respectively (see #getGaussianKernel for details); to fully control the result regardless of\n",
      "    .   possible future modifications of all this semantics, it is recommended to specify all of ksize,\n",
      "    .   sigmaX, and sigmaY.\n",
      "    .   @param borderType pixel extrapolation method, see #BorderTypes\n",
      "    .   \n",
      "    .   @sa  sepFilter2D, filter2D, blur, boxFilter, bilateralFilter, medianBlur\n",
      "\n"
     ]
    }
   ],
   "source": [
    "help(cv2.GaussianBlur)"
   ]
  },
  {
   "cell_type": "code",
   "execution_count": null,
   "metadata": {},
   "outputs": [],
   "source": []
  }
 ],
 "metadata": {
  "kernelspec": {
   "display_name": "Python 3",
   "language": "python",
   "name": "python3"
  },
  "language_info": {
   "codemirror_mode": {
    "name": "ipython",
    "version": 3
   },
   "file_extension": ".py",
   "mimetype": "text/x-python",
   "name": "python",
   "nbconvert_exporter": "python",
   "pygments_lexer": "ipython3",
   "version": "3.6.4"
  }
 },
 "nbformat": 4,
 "nbformat_minor": 2
}
