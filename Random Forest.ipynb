{
 "cells": [
  {
   "cell_type": "code",
   "execution_count": 9,
   "metadata": {},
   "outputs": [],
   "source": [
    "from sklearn.ensemble import RandomForestClassifier\n",
    "import pandas as pd\n",
    "import numpy\n",
    "from sklearn.metrics import roc_curve , auc, confusion_matrix\n",
    "from sklearn.model_selection import train_test_split"
   ]
  },
  {
   "cell_type": "code",
   "execution_count": 15,
   "metadata": {},
   "outputs": [
    {
     "name": "stderr",
     "output_type": "stream",
     "text": [
      "/anaconda3/lib/python3.6/importlib/_bootstrap.py:219: RuntimeWarning: numpy.dtype size changed, may indicate binary incompatibility. Expected 96, got 88\n",
      "  return f(*args, **kwds)\n"
     ]
    }
   ],
   "source": [
    "from imblearn.over_sampling import SMOTE"
   ]
  },
  {
   "cell_type": "code",
   "execution_count": 40,
   "metadata": {},
   "outputs": [],
   "source": [
    "# in our case params is the number of estimators\n",
    "def modelTrain(models, params, trainX, trainY, validX, validY):\n",
    "    models_auc = []\n",
    "    for i, model in enumerate(models):\n",
    "        model.fit(trainX, trainY)\n",
    "        yPredicted = model.predict_proba(validX)\n",
    "        fpr, tpr, _ = roc_curve(validY, yPredicted[:,1])\n",
    "        ar = auc(fpr, tpr)\n",
    "        models_auc.append(ar)\n",
    "        print('Model number {}. Number of estimators = {}, AUC = {}'.format(i, params[i], ar))\n",
    "    return models, models_auc"
   ]
  },
  {
   "cell_type": "code",
   "execution_count": 5,
   "metadata": {},
   "outputs": [],
   "source": [
    "features = pd.read_csv('modifiedTraining.csv')\n",
    "labels = pd.read_csv('labels.csv')"
   ]
  },
  {
   "cell_type": "code",
   "execution_count": 6,
   "metadata": {},
   "outputs": [
    {
     "data": {
      "text/plain": [
       "(15419, 159)"
      ]
     },
     "execution_count": 6,
     "metadata": {},
     "output_type": "execute_result"
    }
   ],
   "source": [
    "features.shape"
   ]
  },
  {
   "cell_type": "code",
   "execution_count": 7,
   "metadata": {},
   "outputs": [
    {
     "data": {
      "text/plain": [
       "(15419, 1)"
      ]
     },
     "execution_count": 7,
     "metadata": {},
     "output_type": "execute_result"
    }
   ],
   "source": [
    "labels.shape"
   ]
  },
  {
   "cell_type": "code",
   "execution_count": 69,
   "metadata": {},
   "outputs": [],
   "source": [
    "trainingX, testX, trainingY, testY = train_test_split(features, labels, random_state=1, test_size=0.2)"
   ]
  },
  {
   "cell_type": "code",
   "execution_count": 70,
   "metadata": {},
   "outputs": [],
   "source": [
    "trainX, validationX, trainY, validationY = train_test_split(trainingX, trainingY, random_state=1, test_size=0.2) "
   ]
  },
  {
   "cell_type": "code",
   "execution_count": 71,
   "metadata": {},
   "outputs": [],
   "source": [
    "sm = SMOTE()"
   ]
  },
  {
   "cell_type": "code",
   "execution_count": 72,
   "metadata": {},
   "outputs": [],
   "source": [
    "x,y = sm.fit_sample(trainX, trainY.squeeze())"
   ]
  },
  {
   "cell_type": "code",
   "execution_count": 73,
   "metadata": {},
   "outputs": [
    {
     "data": {
      "text/plain": [
       "Counter({0.0: 9257, 1.0: 9257})"
      ]
     },
     "execution_count": 73,
     "metadata": {},
     "output_type": "execute_result"
    }
   ],
   "source": [
    "from collections import Counter\n",
    "Counter(y)"
   ]
  },
  {
   "cell_type": "code",
   "execution_count": 74,
   "metadata": {},
   "outputs": [],
   "source": [
    "noOfEstimators = list(range(4,100,2))"
   ]
  },
  {
   "cell_type": "code",
   "execution_count": 75,
   "metadata": {},
   "outputs": [],
   "source": [
    "models = []\n",
    "for estimators in noOfEstimators:\n",
    "    models.append(RandomForestClassifier(n_estimators=estimators, random_state=1))"
   ]
  },
  {
   "cell_type": "code",
   "execution_count": 76,
   "metadata": {},
   "outputs": [
    {
     "name": "stdout",
     "output_type": "stream",
     "text": [
      "Model number 0. Number of estimators = 4, AUC = 0.6410087678359189\n",
      "Model number 1. Number of estimators = 6, AUC = 0.6726264926789504\n",
      "Model number 2. Number of estimators = 8, AUC = 0.7015933317154218\n",
      "Model number 3. Number of estimators = 10, AUC = 0.7256379860735155\n",
      "Model number 4. Number of estimators = 12, AUC = 0.7404029844244902\n",
      "Model number 5. Number of estimators = 14, AUC = 0.7649283451876465\n",
      "Model number 6. Number of estimators = 16, AUC = 0.7629899627258074\n",
      "Model number 7. Number of estimators = 18, AUC = 0.7773302593014356\n",
      "Model number 8. Number of estimators = 20, AUC = 0.7705785900523332\n",
      "Model number 9. Number of estimators = 22, AUC = 0.7730381267073634\n",
      "Model number 10. Number of estimators = 24, AUC = 0.7720611570556499\n",
      "Model number 11. Number of estimators = 26, AUC = 0.7729805663934886\n",
      "Model number 12. Number of estimators = 28, AUC = 0.7815539417925215\n",
      "Model number 13. Number of estimators = 30, AUC = 0.7881982688346681\n",
      "Model number 14. Number of estimators = 32, AUC = 0.790962719584819\n",
      "Model number 15. Number of estimators = 34, AUC = 0.7931749024586032\n",
      "Model number 16. Number of estimators = 36, AUC = 0.7939387433805638\n",
      "Model number 17. Number of estimators = 38, AUC = 0.7933693629784506\n",
      "Model number 18. Number of estimators = 40, AUC = 0.7925199594277572\n",
      "Model number 19. Number of estimators = 42, AUC = 0.7930473363575834\n",
      "Model number 20. Number of estimators = 44, AUC = 0.7939651900112632\n",
      "Model number 21. Number of estimators = 46, AUC = 0.796561626872266\n",
      "Model number 22. Number of estimators = 48, AUC = 0.7967140839198262\n",
      "Model number 23. Number of estimators = 50, AUC = 0.7991393955233632\n",
      "Model number 24. Number of estimators = 52, AUC = 0.800107031070124\n",
      "Model number 25. Number of estimators = 54, AUC = 0.8007713082059229\n",
      "Model number 26. Number of estimators = 56, AUC = 0.7993260776224167\n",
      "Model number 27. Number of estimators = 58, AUC = 0.8006966353663013\n",
      "Model number 28. Number of estimators = 60, AUC = 0.8023845526785769\n",
      "Model number 29. Number of estimators = 62, AUC = 0.8052547899515248\n",
      "Model number 30. Number of estimators = 64, AUC = 0.805366799210957\n",
      "Model number 31. Number of estimators = 66, AUC = 0.8063173222319713\n",
      "Model number 32. Number of estimators = 68, AUC = 0.8057199395149999\n",
      "Model number 33. Number of estimators = 70, AUC = 0.8066377931686797\n",
      "Model number 34. Number of estimators = 72, AUC = 0.806171087921046\n",
      "Model number 35. Number of estimators = 74, AUC = 0.8071651700985059\n",
      "Model number 36. Number of estimators = 76, AUC = 0.8061321958170764\n",
      "Model number 37. Number of estimators = 78, AUC = 0.8064479997013086\n",
      "Model number 38. Number of estimators = 80, AUC = 0.8091440003484732\n",
      "Model number 39. Number of estimators = 82, AUC = 0.8082557046938103\n",
      "Model number 40. Number of estimators = 84, AUC = 0.8089510955127845\n",
      "Model number 41. Number of estimators = 86, AUC = 0.8088950908830684\n",
      "Model number 42. Number of estimators = 88, AUC = 0.8077127709223964\n",
      "Model number 43. Number of estimators = 90, AUC = 0.8079974611234529\n",
      "Model number 44. Number of estimators = 92, AUC = 0.809590481702043\n",
      "Model number 45. Number of estimators = 94, AUC = 0.8103092077833989\n",
      "Model number 46. Number of estimators = 96, AUC = 0.8110823828103122\n",
      "Model number 47. Number of estimators = 98, AUC = 0.8126707363364262\n"
     ]
    }
   ],
   "source": [
    "models, roc_auc = modelTrain(models, noOfEstimators, x, y, validationX, validationY)"
   ]
  },
  {
   "cell_type": "markdown",
   "metadata": {},
   "source": [
    "Maximum AUC on validation set is achieved at number of estimators = 98\n",
    "So, evaluating Random forest classifier on test set using n_estimators = 98"
   ]
  },
  {
   "cell_type": "code",
   "execution_count": 77,
   "metadata": {},
   "outputs": [],
   "source": [
    "finalModel = RandomForestClassifier(n_estimators=98, random_state=1)"
   ]
  },
  {
   "cell_type": "code",
   "execution_count": 78,
   "metadata": {},
   "outputs": [],
   "source": [
    "finalModel.fit(x,y)\n",
    "yPredicted = finalModel.predict(testX)"
   ]
  },
  {
   "cell_type": "code",
   "execution_count": 79,
   "metadata": {},
   "outputs": [
    {
     "data": {
      "text/plain": [
       "array([[2910,    0],\n",
       "       [ 173,    1]])"
      ]
     },
     "execution_count": 79,
     "metadata": {},
     "output_type": "execute_result"
    }
   ],
   "source": [
    "confusion_matrix(testY, yPredicted)"
   ]
  },
  {
   "cell_type": "code",
   "execution_count": 68,
   "metadata": {
    "scrolled": true
   },
   "outputs": [
    {
     "data": {
      "text/plain": [
       "0.000000000000000000e+00    216\n",
       "dtype: int64"
      ]
     },
     "execution_count": 68,
     "metadata": {},
     "output_type": "execute_result"
    }
   ],
   "source": [
    "(testY == 1).sum()"
   ]
  },
  {
   "cell_type": "code",
   "execution_count": 62,
   "metadata": {},
   "outputs": [
    {
     "data": {
      "text/html": [
       "<div>\n",
       "<style scoped>\n",
       "    .dataframe tbody tr th:only-of-type {\n",
       "        vertical-align: middle;\n",
       "    }\n",
       "\n",
       "    .dataframe tbody tr th {\n",
       "        vertical-align: top;\n",
       "    }\n",
       "\n",
       "    .dataframe thead th {\n",
       "        text-align: right;\n",
       "    }\n",
       "</style>\n",
       "<table border=\"1\" class=\"dataframe\">\n",
       "  <thead>\n",
       "    <tr style=\"text-align: right;\">\n",
       "      <th></th>\n",
       "      <th>0.000000000000000000e+00</th>\n",
       "    </tr>\n",
       "  </thead>\n",
       "  <tbody>\n",
       "    <tr>\n",
       "      <th>11444</th>\n",
       "      <td>0.0</td>\n",
       "    </tr>\n",
       "    <tr>\n",
       "      <th>9416</th>\n",
       "      <td>0.0</td>\n",
       "    </tr>\n",
       "    <tr>\n",
       "      <th>8076</th>\n",
       "      <td>0.0</td>\n",
       "    </tr>\n",
       "    <tr>\n",
       "      <th>12320</th>\n",
       "      <td>0.0</td>\n",
       "    </tr>\n",
       "    <tr>\n",
       "      <th>2141</th>\n",
       "      <td>1.0</td>\n",
       "    </tr>\n",
       "    <tr>\n",
       "      <th>10615</th>\n",
       "      <td>0.0</td>\n",
       "    </tr>\n",
       "    <tr>\n",
       "      <th>11033</th>\n",
       "      <td>0.0</td>\n",
       "    </tr>\n",
       "    <tr>\n",
       "      <th>9093</th>\n",
       "      <td>0.0</td>\n",
       "    </tr>\n",
       "    <tr>\n",
       "      <th>13994</th>\n",
       "      <td>0.0</td>\n",
       "    </tr>\n",
       "    <tr>\n",
       "      <th>6549</th>\n",
       "      <td>0.0</td>\n",
       "    </tr>\n",
       "    <tr>\n",
       "      <th>5749</th>\n",
       "      <td>0.0</td>\n",
       "    </tr>\n",
       "    <tr>\n",
       "      <th>1156</th>\n",
       "      <td>0.0</td>\n",
       "    </tr>\n",
       "    <tr>\n",
       "      <th>10660</th>\n",
       "      <td>0.0</td>\n",
       "    </tr>\n",
       "    <tr>\n",
       "      <th>7083</th>\n",
       "      <td>0.0</td>\n",
       "    </tr>\n",
       "    <tr>\n",
       "      <th>6258</th>\n",
       "      <td>0.0</td>\n",
       "    </tr>\n",
       "    <tr>\n",
       "      <th>8315</th>\n",
       "      <td>0.0</td>\n",
       "    </tr>\n",
       "    <tr>\n",
       "      <th>7121</th>\n",
       "      <td>0.0</td>\n",
       "    </tr>\n",
       "    <tr>\n",
       "      <th>6806</th>\n",
       "      <td>0.0</td>\n",
       "    </tr>\n",
       "    <tr>\n",
       "      <th>11066</th>\n",
       "      <td>0.0</td>\n",
       "    </tr>\n",
       "    <tr>\n",
       "      <th>4701</th>\n",
       "      <td>0.0</td>\n",
       "    </tr>\n",
       "    <tr>\n",
       "      <th>10937</th>\n",
       "      <td>0.0</td>\n",
       "    </tr>\n",
       "    <tr>\n",
       "      <th>8047</th>\n",
       "      <td>0.0</td>\n",
       "    </tr>\n",
       "    <tr>\n",
       "      <th>11108</th>\n",
       "      <td>0.0</td>\n",
       "    </tr>\n",
       "    <tr>\n",
       "      <th>2355</th>\n",
       "      <td>0.0</td>\n",
       "    </tr>\n",
       "    <tr>\n",
       "      <th>11139</th>\n",
       "      <td>0.0</td>\n",
       "    </tr>\n",
       "    <tr>\n",
       "      <th>1315</th>\n",
       "      <td>0.0</td>\n",
       "    </tr>\n",
       "    <tr>\n",
       "      <th>4867</th>\n",
       "      <td>0.0</td>\n",
       "    </tr>\n",
       "    <tr>\n",
       "      <th>8091</th>\n",
       "      <td>0.0</td>\n",
       "    </tr>\n",
       "    <tr>\n",
       "      <th>3264</th>\n",
       "      <td>0.0</td>\n",
       "    </tr>\n",
       "    <tr>\n",
       "      <th>4302</th>\n",
       "      <td>0.0</td>\n",
       "    </tr>\n",
       "    <tr>\n",
       "      <th>...</th>\n",
       "      <td>...</td>\n",
       "    </tr>\n",
       "    <tr>\n",
       "      <th>8447</th>\n",
       "      <td>0.0</td>\n",
       "    </tr>\n",
       "    <tr>\n",
       "      <th>240</th>\n",
       "      <td>0.0</td>\n",
       "    </tr>\n",
       "    <tr>\n",
       "      <th>197</th>\n",
       "      <td>0.0</td>\n",
       "    </tr>\n",
       "    <tr>\n",
       "      <th>2452</th>\n",
       "      <td>0.0</td>\n",
       "    </tr>\n",
       "    <tr>\n",
       "      <th>13257</th>\n",
       "      <td>0.0</td>\n",
       "    </tr>\n",
       "    <tr>\n",
       "      <th>882</th>\n",
       "      <td>0.0</td>\n",
       "    </tr>\n",
       "    <tr>\n",
       "      <th>5696</th>\n",
       "      <td>1.0</td>\n",
       "    </tr>\n",
       "    <tr>\n",
       "      <th>11644</th>\n",
       "      <td>0.0</td>\n",
       "    </tr>\n",
       "    <tr>\n",
       "      <th>7234</th>\n",
       "      <td>0.0</td>\n",
       "    </tr>\n",
       "    <tr>\n",
       "      <th>7339</th>\n",
       "      <td>0.0</td>\n",
       "    </tr>\n",
       "    <tr>\n",
       "      <th>4655</th>\n",
       "      <td>0.0</td>\n",
       "    </tr>\n",
       "    <tr>\n",
       "      <th>3261</th>\n",
       "      <td>0.0</td>\n",
       "    </tr>\n",
       "    <tr>\n",
       "      <th>4774</th>\n",
       "      <td>1.0</td>\n",
       "    </tr>\n",
       "    <tr>\n",
       "      <th>12631</th>\n",
       "      <td>0.0</td>\n",
       "    </tr>\n",
       "    <tr>\n",
       "      <th>3272</th>\n",
       "      <td>0.0</td>\n",
       "    </tr>\n",
       "    <tr>\n",
       "      <th>4516</th>\n",
       "      <td>0.0</td>\n",
       "    </tr>\n",
       "    <tr>\n",
       "      <th>7555</th>\n",
       "      <td>0.0</td>\n",
       "    </tr>\n",
       "    <tr>\n",
       "      <th>10703</th>\n",
       "      <td>0.0</td>\n",
       "    </tr>\n",
       "    <tr>\n",
       "      <th>11664</th>\n",
       "      <td>0.0</td>\n",
       "    </tr>\n",
       "    <tr>\n",
       "      <th>13774</th>\n",
       "      <td>0.0</td>\n",
       "    </tr>\n",
       "    <tr>\n",
       "      <th>12473</th>\n",
       "      <td>0.0</td>\n",
       "    </tr>\n",
       "    <tr>\n",
       "      <th>1616</th>\n",
       "      <td>0.0</td>\n",
       "    </tr>\n",
       "    <tr>\n",
       "      <th>13812</th>\n",
       "      <td>0.0</td>\n",
       "    </tr>\n",
       "    <tr>\n",
       "      <th>8325</th>\n",
       "      <td>0.0</td>\n",
       "    </tr>\n",
       "    <tr>\n",
       "      <th>13558</th>\n",
       "      <td>0.0</td>\n",
       "    </tr>\n",
       "    <tr>\n",
       "      <th>13290</th>\n",
       "      <td>0.0</td>\n",
       "    </tr>\n",
       "    <tr>\n",
       "      <th>1235</th>\n",
       "      <td>0.0</td>\n",
       "    </tr>\n",
       "    <tr>\n",
       "      <th>10209</th>\n",
       "      <td>0.0</td>\n",
       "    </tr>\n",
       "    <tr>\n",
       "      <th>3298</th>\n",
       "      <td>0.0</td>\n",
       "    </tr>\n",
       "    <tr>\n",
       "      <th>2492</th>\n",
       "      <td>0.0</td>\n",
       "    </tr>\n",
       "  </tbody>\n",
       "</table>\n",
       "<p>3855 rows × 1 columns</p>\n",
       "</div>"
      ],
      "text/plain": [
       "       0.000000000000000000e+00\n",
       "11444                       0.0\n",
       "9416                        0.0\n",
       "8076                        0.0\n",
       "12320                       0.0\n",
       "2141                        1.0\n",
       "10615                       0.0\n",
       "11033                       0.0\n",
       "9093                        0.0\n",
       "13994                       0.0\n",
       "6549                        0.0\n",
       "5749                        0.0\n",
       "1156                        0.0\n",
       "10660                       0.0\n",
       "7083                        0.0\n",
       "6258                        0.0\n",
       "8315                        0.0\n",
       "7121                        0.0\n",
       "6806                        0.0\n",
       "11066                       0.0\n",
       "4701                        0.0\n",
       "10937                       0.0\n",
       "8047                        0.0\n",
       "11108                       0.0\n",
       "2355                        0.0\n",
       "11139                       0.0\n",
       "1315                        0.0\n",
       "4867                        0.0\n",
       "8091                        0.0\n",
       "3264                        0.0\n",
       "4302                        0.0\n",
       "...                         ...\n",
       "8447                        0.0\n",
       "240                         0.0\n",
       "197                         0.0\n",
       "2452                        0.0\n",
       "13257                       0.0\n",
       "882                         0.0\n",
       "5696                        1.0\n",
       "11644                       0.0\n",
       "7234                        0.0\n",
       "7339                        0.0\n",
       "4655                        0.0\n",
       "3261                        0.0\n",
       "4774                        1.0\n",
       "12631                       0.0\n",
       "3272                        0.0\n",
       "4516                        0.0\n",
       "7555                        0.0\n",
       "10703                       0.0\n",
       "11664                       0.0\n",
       "13774                       0.0\n",
       "12473                       0.0\n",
       "1616                        0.0\n",
       "13812                       0.0\n",
       "8325                        0.0\n",
       "13558                       0.0\n",
       "13290                       0.0\n",
       "1235                        0.0\n",
       "10209                       0.0\n",
       "3298                        0.0\n",
       "2492                        0.0\n",
       "\n",
       "[3855 rows x 1 columns]"
      ]
     },
     "execution_count": 62,
     "metadata": {},
     "output_type": "execute_result"
    }
   ],
   "source": [
    "testY"
   ]
  },
  {
   "cell_type": "code",
   "execution_count": 46,
   "metadata": {},
   "outputs": [
    {
     "name": "stdout",
     "output_type": "stream",
     "text": [
      "Help on function confusion_matrix in module sklearn.metrics.classification:\n",
      "\n",
      "confusion_matrix(y_true, y_pred, labels=None, sample_weight=None)\n",
      "    Compute confusion matrix to evaluate the accuracy of a classification\n",
      "    \n",
      "    By definition a confusion matrix :math:`C` is such that :math:`C_{i, j}`\n",
      "    is equal to the number of observations known to be in group :math:`i` but\n",
      "    predicted to be in group :math:`j`.\n",
      "    \n",
      "    Thus in binary classification, the count of true negatives is\n",
      "    :math:`C_{0,0}`, false negatives is :math:`C_{1,0}`, true positives is\n",
      "    :math:`C_{1,1}` and false positives is :math:`C_{0,1}`.\n",
      "    \n",
      "    Read more in the :ref:`User Guide <confusion_matrix>`.\n",
      "    \n",
      "    Parameters\n",
      "    ----------\n",
      "    y_true : array, shape = [n_samples]\n",
      "        Ground truth (correct) target values.\n",
      "    \n",
      "    y_pred : array, shape = [n_samples]\n",
      "        Estimated targets as returned by a classifier.\n",
      "    \n",
      "    labels : array, shape = [n_classes], optional\n",
      "        List of labels to index the matrix. This may be used to reorder\n",
      "        or select a subset of labels.\n",
      "        If none is given, those that appear at least once\n",
      "        in ``y_true`` or ``y_pred`` are used in sorted order.\n",
      "    \n",
      "    sample_weight : array-like of shape = [n_samples], optional\n",
      "        Sample weights.\n",
      "    \n",
      "    Returns\n",
      "    -------\n",
      "    C : array, shape = [n_classes, n_classes]\n",
      "        Confusion matrix\n",
      "    \n",
      "    References\n",
      "    ----------\n",
      "    .. [1] `Wikipedia entry for the Confusion matrix\n",
      "           <https://en.wikipedia.org/wiki/Confusion_matrix>`_\n",
      "    \n",
      "    Examples\n",
      "    --------\n",
      "    >>> from sklearn.metrics import confusion_matrix\n",
      "    >>> y_true = [2, 0, 2, 2, 0, 1]\n",
      "    >>> y_pred = [0, 0, 2, 2, 0, 2]\n",
      "    >>> confusion_matrix(y_true, y_pred)\n",
      "    array([[2, 0, 0],\n",
      "           [0, 0, 1],\n",
      "           [1, 0, 2]])\n",
      "    \n",
      "    >>> y_true = [\"cat\", \"ant\", \"cat\", \"cat\", \"ant\", \"bird\"]\n",
      "    >>> y_pred = [\"ant\", \"ant\", \"cat\", \"cat\", \"ant\", \"cat\"]\n",
      "    >>> confusion_matrix(y_true, y_pred, labels=[\"ant\", \"bird\", \"cat\"])\n",
      "    array([[2, 0, 0],\n",
      "           [0, 0, 1],\n",
      "           [1, 0, 2]])\n",
      "    \n",
      "    In the binary case, we can extract true positives, etc as follows:\n",
      "    \n",
      "    >>> tn, fp, fn, tp = confusion_matrix([0, 1, 0, 1], [1, 1, 1, 0]).ravel()\n",
      "    >>> (tn, fp, fn, tp)\n",
      "    (0, 2, 1, 1)\n",
      "\n"
     ]
    }
   ],
   "source": [
    "help(confusion_matrix)"
   ]
  },
  {
   "cell_type": "code",
   "execution_count": 31,
   "metadata": {},
   "outputs": [
    {
     "name": "stdout",
     "output_type": "stream",
     "text": [
      "Help on function auc in module sklearn.metrics.ranking:\n",
      "\n",
      "auc(x, y, reorder=False)\n",
      "    Compute Area Under the Curve (AUC) using the trapezoidal rule\n",
      "    \n",
      "    This is a general function, given points on a curve.  For computing the\n",
      "    area under the ROC-curve, see :func:`roc_auc_score`.  For an alternative\n",
      "    way to summarize a precision-recall curve, see\n",
      "    :func:`average_precision_score`.\n",
      "    \n",
      "    Parameters\n",
      "    ----------\n",
      "    x : array, shape = [n]\n",
      "        x coordinates.\n",
      "    y : array, shape = [n]\n",
      "        y coordinates.\n",
      "    reorder : boolean, optional (default=False)\n",
      "        If True, assume that the curve is ascending in the case of ties, as for\n",
      "        an ROC curve. If the curve is non-ascending, the result will be wrong.\n",
      "    \n",
      "    Returns\n",
      "    -------\n",
      "    auc : float\n",
      "    \n",
      "    Examples\n",
      "    --------\n",
      "    >>> import numpy as np\n",
      "    >>> from sklearn import metrics\n",
      "    >>> y = np.array([1, 1, 2, 2])\n",
      "    >>> pred = np.array([0.1, 0.4, 0.35, 0.8])\n",
      "    >>> fpr, tpr, thresholds = metrics.roc_curve(y, pred, pos_label=2)\n",
      "    >>> metrics.auc(fpr, tpr)\n",
      "    0.75\n",
      "    \n",
      "    See also\n",
      "    --------\n",
      "    roc_auc_score : Compute the area under the ROC curve\n",
      "    average_precision_score : Compute average precision from prediction scores\n",
      "    precision_recall_curve :\n",
      "        Compute precision-recall pairs for different probability thresholds\n",
      "\n"
     ]
    }
   ],
   "source": [
    "help(auc)"
   ]
  },
  {
   "cell_type": "code",
   "execution_count": null,
   "metadata": {},
   "outputs": [],
   "source": []
  }
 ],
 "metadata": {
  "kernelspec": {
   "display_name": "Python 3",
   "language": "python",
   "name": "python3"
  },
  "language_info": {
   "codemirror_mode": {
    "name": "ipython",
    "version": 3
   },
   "file_extension": ".py",
   "mimetype": "text/x-python",
   "name": "python",
   "nbconvert_exporter": "python",
   "pygments_lexer": "ipython3",
   "version": "3.6.4"
  }
 },
 "nbformat": 4,
 "nbformat_minor": 2
}
