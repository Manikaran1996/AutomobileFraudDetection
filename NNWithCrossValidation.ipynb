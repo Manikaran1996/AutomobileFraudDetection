{
 "cells": [
  {
   "cell_type": "code",
   "execution_count": 1,
   "metadata": {},
   "outputs": [
    {
     "name": "stderr",
     "output_type": "stream",
     "text": [
      "/anaconda3/lib/python3.6/site-packages/h5py/__init__.py:36: FutureWarning: Conversion of the second argument of issubdtype from `float` to `np.floating` is deprecated. In future, it will be treated as `np.float64 == np.dtype(float).type`.\n",
      "  from ._conv import register_converters as _register_converters\n",
      "Using TensorFlow backend.\n"
     ]
    }
   ],
   "source": [
    "from keras.models import Sequential\n",
    "from keras.layers import Dense\n",
    "from keras.optimizers import SGD\n",
    "import pandas as pd\n",
    "import numpy\n",
    "from sklearn.model_selection import train_test_split\n",
    "from sklearn.metrics import confusion_matrix, roc_curve, auc, roc_auc_score, precision_score, recall_score, f1_score, accuracy_score\n",
    "import matplotlib.pyplot as plt\n",
    "from keras.callbacks import EarlyStopping"
   ]
  },
  {
   "cell_type": "code",
   "execution_count": 2,
   "metadata": {},
   "outputs": [],
   "source": [
    "from sklearn.preprocessing import OneHotEncoder\n",
    "from sklearn.preprocessing import LabelEncoder"
   ]
  },
  {
   "cell_type": "code",
   "execution_count": 3,
   "metadata": {},
   "outputs": [],
   "source": [
    "from imblearn.over_sampling import SMOTE"
   ]
  },
  {
   "cell_type": "code",
   "execution_count": 4,
   "metadata": {},
   "outputs": [],
   "source": [
    "from tensorflow import set_random_seed"
   ]
  },
  {
   "cell_type": "code",
   "execution_count": 18,
   "metadata": {},
   "outputs": [],
   "source": [
    "from sklearn.model_selection import StratifiedKFold"
   ]
  },
  {
   "cell_type": "code",
   "execution_count": 5,
   "metadata": {},
   "outputs": [],
   "source": [
    "def plotROC(fpr, tpr):\n",
    "    plt.figure()\n",
    "    plt.plot(fpr, tpr, label='ROC curve, area = {:.2}'.format(auc(fpr, tpr)))\n",
    "    plt.plot([0,1], [0,1], 'k--')\n",
    "    plt.xlabel('False positive rate')\n",
    "    plt.ylabel('True positive rate')\n",
    "    plt.title('ROC Curve')\n",
    "    plt.legend(loc='lower right')\n",
    "    plt.show()"
   ]
  },
  {
   "cell_type": "code",
   "execution_count": 6,
   "metadata": {},
   "outputs": [],
   "source": [
    "features = numpy.loadtxt('modifiedTraining.csv', delimiter=',')\n",
    "labels = numpy.loadtxt('labels.csv', delimiter=',')"
   ]
  },
  {
   "cell_type": "code",
   "execution_count": 7,
   "metadata": {},
   "outputs": [
    {
     "data": {
      "text/plain": [
       "(15420, 159)"
      ]
     },
     "execution_count": 7,
     "metadata": {},
     "output_type": "execute_result"
    }
   ],
   "source": [
    "features.shape"
   ]
  },
  {
   "cell_type": "code",
   "execution_count": 8,
   "metadata": {},
   "outputs": [
    {
     "data": {
      "text/plain": [
       "(15420,)"
      ]
     },
     "execution_count": 8,
     "metadata": {},
     "output_type": "execute_result"
    }
   ],
   "source": [
    "labels.shape"
   ]
  },
  {
   "cell_type": "code",
   "execution_count": 10,
   "metadata": {},
   "outputs": [],
   "source": [
    "trainingX, testX, trainingY, testY = train_test_split(features, labels, test_size=0.3, random_state=1)"
   ]
  },
  {
   "cell_type": "code",
   "execution_count": 11,
   "metadata": {},
   "outputs": [],
   "source": [
    "# using SMOTE for over-sampling\n",
    "sm = SMOTE(kind='regular')"
   ]
  },
  {
   "cell_type": "code",
   "execution_count": 12,
   "metadata": {},
   "outputs": [],
   "source": [
    "x, y = sm.fit_sample(trainingX, trainingY)"
   ]
  },
  {
   "cell_type": "code",
   "execution_count": 13,
   "metadata": {},
   "outputs": [
    {
     "name": "stdout",
     "output_type": "stream",
     "text": [
      "Number of fraudulent cases = 10180\n",
      "Number of true cases = 10180\n"
     ]
    }
   ],
   "source": [
    "print('Number of fraudulent cases = {}\\nNumber of true cases = {}'.format(sum(y[:] == 1), sum(y[:] == 0)))"
   ]
  },
  {
   "cell_type": "code",
   "execution_count": 14,
   "metadata": {},
   "outputs": [],
   "source": [
    "# normalizing training data to zero mean and unit standard deviation\n",
    "x -= numpy.mean(x, axis=0)\n",
    "sd = numpy.std(x, axis=0)\n",
    "sd[sd[:] == 0] = 1\n",
    "x /= sd"
   ]
  },
  {
   "cell_type": "code",
   "execution_count": 15,
   "metadata": {},
   "outputs": [],
   "source": [
    "ohe1 = OneHotEncoder()\n",
    "ohe1.fit(y.reshape(-1,1))\n",
    "transformedTrainingY = ohe1.transform(y.reshape(-1,1)).toarray()"
   ]
  },
  {
   "cell_type": "code",
   "execution_count": 16,
   "metadata": {},
   "outputs": [],
   "source": [
    "testX -= numpy.mean(testX, axis=0)\n",
    "sd = numpy.std(testX, axis=0)\n",
    "sd[sd[:] == 0] = 1\n",
    "testX /= sd"
   ]
  },
  {
   "cell_type": "code",
   "execution_count": 19,
   "metadata": {},
   "outputs": [],
   "source": [
    "sKfold = StratifiedKFold(n_splits=10, shuffle=True, random_state=1)"
   ]
  },
  {
   "cell_type": "code",
   "execution_count": 17,
   "metadata": {},
   "outputs": [],
   "source": [
    "callBack = EarlyStopping(patience=5)"
   ]
  },
  {
   "cell_type": "code",
   "execution_count": 21,
   "metadata": {},
   "outputs": [
    {
     "name": "stdout",
     "output_type": "stream",
     "text": [
      "Validation Loss = 0.10696399560992283 , Validation Accuracy = 0.974950884086444\n",
      "Validation Loss = 0.08067548739191416 , Validation Accuracy = 0.9739685658153242\n",
      "Validation Loss = 0.10629360170482359 , Validation Accuracy = 0.9764243614931237\n",
      "Validation Loss = 0.09428217261389249 , Validation Accuracy = 0.9769155206286837\n",
      "Validation Loss = 0.07980455165319071 , Validation Accuracy = 0.9833005893909627\n",
      "Validation Loss = 0.15409955578606416 , Validation Accuracy = 0.9675834970530451\n",
      "Validation Loss = 0.10084305584068412 , Validation Accuracy = 0.9769155206286837\n",
      "Validation Loss = 0.0975450304778721 , Validation Accuracy = 0.9774066797642437\n",
      "Validation Loss = 0.1346016999650637 , Validation Accuracy = 0.9666011787819253\n",
      "Validation Loss = 0.11501176788815624 , Validation Accuracy = 0.9680746561886051\n",
      "Mean Accuracy =  0.9742141453831042\n",
      "Standard Deviation =  0.0050244883394094456\n"
     ]
    }
   ],
   "source": [
    "sgd = SGD(lr=0.001, momentum=0.9)\n",
    "set_random_seed(1)\n",
    "numpy.random.seed(1)\n",
    "cvs = []\n",
    "for train, test in sKfold.split(x, y):\n",
    "    model = Sequential()\n",
    "    model.add(Dense(60, activation='relu', input_shape=(159,)))\n",
    "    model.add(Dense(60, activation='relu'))\n",
    "    model.add(Dense(2, activation='softmax'))\n",
    "    model.compile(loss='binary_crossentropy', metrics=['accuracy'], optimizer=sgd)\n",
    "    model.fit(x[train], transformedTrainingY[train], batch_size = 32, epochs=50, verbose=0)\n",
    "    loss, accuracy = model.evaluate(x[test], transformedTrainingY[test], verbose=2)\n",
    "    print('Validation Loss = {} , Validation Accuracy = {}'.format(loss, accuracy))\n",
    "    cvs.append(accuracy)\n",
    "print('Mean Accuracy = ', numpy.mean(cvs))\n",
    "print('Standard Deviation = ', numpy.std(cvs))"
   ]
  },
  {
   "cell_type": "markdown",
   "metadata": {},
   "source": [
    "### Retraining the model on entired dataset"
   ]
  },
  {
   "cell_type": "code",
   "execution_count": 22,
   "metadata": {},
   "outputs": [
    {
     "data": {
      "text/plain": [
       "<keras.callbacks.History at 0x1a226e9eb8>"
      ]
     },
     "execution_count": 22,
     "metadata": {},
     "output_type": "execute_result"
    }
   ],
   "source": [
    "model = Sequential()\n",
    "model.add(Dense(60, activation='relu', input_shape=(159,)))\n",
    "model.add(Dense(60, activation='relu'))\n",
    "model.add(Dense(2, activation='softmax'))\n",
    "model.compile(loss='binary_crossentropy', metrics=['accuracy'], optimizer=sgd)\n",
    "model.fit(x, transformedTrainingY, batch_size = 32, epochs=50, verbose=0)"
   ]
  },
  {
   "cell_type": "code",
   "execution_count": 23,
   "metadata": {},
   "outputs": [
    {
     "name": "stdout",
     "output_type": "stream",
     "text": [
      "Test Loss = 0.8784766677739658 , Test Accuracy = 0.8335495027071256, AUC = 0.7381403242842889\n",
      "[[3739  578]\n",
      " [ 192  117]]\n"
     ]
    }
   ],
   "source": [
    "loss, accuracy = model.evaluate(testX, ohe1.transform(testY.reshape(-1,1)).toarray(), verbose=2)\n",
    "predicted = model.predict(testX)\n",
    "print('Test Loss = {} , Test Accuracy = {}, AUC = {}'.format(loss, accuracy, roc_auc_score(testY, predicted[:,1])))\n",
    "# Confusion Matrix\n",
    "print(confusion_matrix(testY, numpy.argmax(predicted, axis=1)))"
   ]
  },
  {
   "cell_type": "code",
   "execution_count": 24,
   "metadata": {},
   "outputs": [],
   "source": [
    "fpr, tpr, _ = roc_curve(testY, predicted[:,1])"
   ]
  },
  {
   "cell_type": "code",
   "execution_count": 25,
   "metadata": {},
   "outputs": [
    {
     "data": {
      "image/png": "[encoded data removed]",
      "text/plain": [
       "<matplotlib.figure.Figure at 0x111fa1f60>"
      ]
     },
     "metadata": {},
     "output_type": "display_data"
    }
   ],
   "source": [
    "plotROC(fpr,tpr)"
   ]
  },
  {
   "cell_type": "code",
   "execution_count": 26,
   "metadata": {},
   "outputs": [],
   "source": [
    "yPredicted = numpy.argmax(predicted, axis=1)"
   ]
  },
  {
   "cell_type": "code",
   "execution_count": 27,
   "metadata": {},
   "outputs": [
    {
     "data": {
      "text/plain": [
       "array([[3739,  578],\n",
       "       [ 192,  117]])"
      ]
     },
     "execution_count": 27,
     "metadata": {},
     "output_type": "execute_result"
    }
   ],
   "source": [
    "confusion_matrix(testY, yPredicted)"
   ]
  },
  {
   "cell_type": "code",
   "execution_count": 28,
   "metadata": {},
   "outputs": [
    {
     "data": {
      "text/plain": [
       "0.1683453237410072"
      ]
     },
     "execution_count": 28,
     "metadata": {},
     "output_type": "execute_result"
    }
   ],
   "source": [
    "precision_score(testY, yPredicted)"
   ]
  },
  {
   "cell_type": "code",
   "execution_count": 29,
   "metadata": {},
   "outputs": [
    {
     "data": {
      "text/plain": [
       "0.3786407766990291"
      ]
     },
     "execution_count": 29,
     "metadata": {},
     "output_type": "execute_result"
    }
   ],
   "source": [
    "recall_score(testY, yPredicted)"
   ]
  },
  {
   "cell_type": "code",
   "execution_count": 30,
   "metadata": {},
   "outputs": [
    {
     "data": {
      "text/plain": [
       "0.23306772908366538"
      ]
     },
     "execution_count": 30,
     "metadata": {},
     "output_type": "execute_result"
    }
   ],
   "source": [
    "f1_score(testY, yPredicted)"
   ]
  },
  {
   "cell_type": "code",
   "execution_count": 31,
   "metadata": {},
   "outputs": [
    {
     "data": {
      "text/plain": [
       "0.8335495028102032"
      ]
     },
     "execution_count": 31,
     "metadata": {},
     "output_type": "execute_result"
    }
   ],
   "source": [
    "accuracy_score(testY, yPredicted)"
   ]
  },
  {
   "cell_type": "code",
   "execution_count": null,
   "metadata": {},
   "outputs": [],
   "source": []
  }
 ],
 "metadata": {
  "kernelspec": {
   "display_name": "Python 3",
   "language": "python",
   "name": "python3"
  },
  "language_info": {
   "codemirror_mode": {
    "name": "ipython",
    "version": 3
   },
   "file_extension": ".py",
   "mimetype": "text/x-python",
   "name": "python",
   "nbconvert_exporter": "python",
   "pygments_lexer": "ipython3",
   "version": "3.6.4"
  }
 },
 "nbformat": 4,
 "nbformat_minor": 2
}
